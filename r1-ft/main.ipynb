{
 "cells": [
  {
   "cell_type": "markdown",
   "metadata": {},
   "source": [
    "环境用的：test\n",
    "\n",
    "https://www.bilibili.com/video/BV1pfKNe8E7F/?spm_id_from=333.1007.tianma.3-4-10.click&vd_source=a0d30acd76c4a4ca61e1f938925ede3e"
   ]
  },
  {
   "cell_type": "code",
   "execution_count": 1,
   "metadata": {},
   "outputs": [
    {
     "name": "stdout",
     "output_type": "stream",
     "text": [
      "nvcc: NVIDIA (R) Cuda compiler driver\n",
      "Copyright (c) 2005-2022 NVIDIA Corporation\n",
      "Built on Wed_Sep_21_10:33:58_PDT_2022\n",
      "Cuda compilation tools, release 11.8, V11.8.89\n",
      "Build cuda_11.8.r11.8/compiler.31833905_0\n"
     ]
    }
   ],
   "source": [
    "!nvcc -V"
   ]
  },
  {
   "cell_type": "code",
   "execution_count": 2,
   "metadata": {},
   "outputs": [],
   "source": [
    "# !pip3 install torch torchvision torchaudio --index-url https://download.pytorch.org/whl/cu118\n",
    "# !pip install transformer\n",
    "# !pip install datasets\n",
    "# !pip install peft\n",
    "# !pip install bitsandbytes"
   ]
  },
  {
   "cell_type": "code",
   "execution_count": 3,
   "metadata": {},
   "outputs": [
    {
     "name": "stderr",
     "output_type": "stream",
     "text": [
      "/home/ubuntu/anaconda3/envs/test/lib/python3.12/site-packages/tqdm/auto.py:21: TqdmWarning: IProgress not found. Please update jupyter and ipywidgets. See https://ipywidgets.readthedocs.io/en/stable/user_install.html\n",
      "  from .autonotebook import tqdm as notebook_tqdm\n"
     ]
    },
    {
     "name": "stdout",
     "output_type": "stream",
     "text": [
      "----模型加载成功----\n"
     ]
    }
   ],
   "source": [
    "# 测试模型是否可用\n",
    "from transformers import AutoTokenizer, AutoModelForCausalLM\n",
    "\n",
    "model_name = 'deepseek-ai/DeepSeek-R1-Distill-Qwen-1.5B'\n",
    "tokenizer = AutoTokenizer.from_pretrained(model_name)\n",
    "\n",
    "# 运行通过了\n",
    "# model = AutoModelForCausalLM.from_pretrained(model_name, device_map=\"auto\")\n",
    "\n",
    "print(\"----模型加载成功----\")"
   ]
  },
  {
   "cell_type": "code",
   "execution_count": 4,
   "metadata": {},
   "outputs": [
    {
     "name": "stdout",
     "output_type": "stream",
     "text": [
      "----数据准备完成----\n"
     ]
    }
   ],
   "source": [
    "# 制作数据集\n",
    "from data_prepare import samples\n",
    "import json\n",
    "\n",
    "with open(\"datasets.jsonl\",\"w\",encoding=\"utf-8\") as f:\n",
    "    for s in samples:\n",
    "        json_line = json.dumps(s) # 将每行数据转换为json格式\n",
    "        f.write(json_line + \"\\n\") # 写入文件\n",
    "    else:\n",
    "        print(\"----数据准备完成----\")"
   ]
  },
  {
   "cell_type": "code",
   "execution_count": 5,
   "metadata": {},
   "outputs": [
    {
     "name": "stderr",
     "output_type": "stream",
     "text": [
      "Generating train split: 50 examples [00:00, 6269.14 examples/s]"
     ]
    },
    {
     "name": "stdout",
     "output_type": "stream",
     "text": [
      "数据量为： 50\n",
      "----数据集准备完成----\n",
      "训练集数据量为： 40\n",
      "测试集数据量为： 10\n",
      "----数据集分割完成----\n"
     ]
    },
    {
     "name": "stderr",
     "output_type": "stream",
     "text": [
      "\n"
     ]
    }
   ],
   "source": [
    "# 准备训练集和测试集\n",
    "from datasets import load_dataset\n",
    "\n",
    "dataset = load_dataset(\"json\",data_files={\"train\":\"datasets.jsonl\"},split=\"train\")\n",
    "print(\"数据量为：\",len(dataset))\n",
    "\n",
    "print(\"----数据集准备完成----\")\n",
    "\n",
    "# 分割数据集\n",
    "train = dataset.train_test_split(test_size=0.2)\n",
    "\n",
    "train_dataset = train[\"train\"]\n",
    "test_dataset = train[\"test\"]\n",
    "\n",
    "print(\"训练集数据量为：\",len(train_dataset))\n",
    "print(\"测试集数据量为：\",len(test_dataset))\n",
    "\n",
    "print(\"----数据集分割完成----\")"
   ]
  },
  {
   "cell_type": "code",
   "execution_count": 6,
   "metadata": {},
   "outputs": [
    {
     "name": "stderr",
     "output_type": "stream",
     "text": [
      "Map: 100%|██████████| 40/40 [00:00<00:00, 779.95 examples/s]\n"
     ]
    },
    {
     "name": "stdout",
     "output_type": "stream",
     "text": [
      "['Question 40: Why is it important to rest your voice after singing?\\nAnswer 40: Resting allows your vocal cords to recover, preventing strain and potential long-term damage.', 'Question 12: How do you sing high notes without straining?\\nAnswer 12: Use proper breath support, relax your throat, and place the sound forward in your mask (resonance areas).', 'Question 9: What techniques help develop vibrato in singing?\\nAnswer 9: Practice sustaining notes while gently oscillating your pitch; focus on relaxation and consistent airflow.', 'Question 50: What is the final step in preparing for a vocal performance?\\nAnswer 50: Do a final warm-up, review your setlist, and focus on calming your nerves before stepping onto the stage.', 'Question 23: How do you project your voice without shouting?\\nAnswer 23: Use proper breath support, open your throat, and focus on forward resonance to amplify your sound naturally.', 'Question 34: What exercises help with vocal endurance?\\nAnswer 34: Long-tone exercises, sustained scales, and practicing songs at various dynamic levels build vocal stamina over time.', 'Question 14: How do you maintain vocal health during a busy singing schedule?\\nAnswer 14: Stay hydrated, get adequate rest, and avoid overuse by incorporating regular vocal breaks and proper warm-ups.', 'Question 5: What exercises help improve pitch accuracy?\\nAnswer 5: Practice scales, use a piano or digital tuner for reference, and try interval training to enhance pitch precision.', 'Question 45: What are signs that you need professional vocal training?\\nAnswer 45: Persistent pitch issues, vocal fatigue, or difficulty with certain techniques are signs that professional training may help.', 'Question 2: How can you improve your breath control while singing?\\nAnswer 2: Practice diaphragmatic breathing by inhaling deeply through your nose and controlling your exhale while singing sustained notes.', 'Question 4: How do you find your vocal range?\\nAnswer 4: Experiment by singing scales up and down to identify the lowest and highest note you can comfortably sustain.', 'Question 11: What warm-up exercises are essential for singers?\\nAnswer 11: Lip trills, humming, and singing scales are effective warm-up exercises that prepare your voice for singing.', 'Question 33: How do you practice singing in different genres?\\nAnswer 33: Study the stylistic elements of each genre, such as phrasing and tone, and practice songs that challenge your versatility.', 'Question 26: What are the signs of vocal fatigue?\\nAnswer 26: Hoarseness, difficulty hitting notes, and a feeling of tightness in the throat are common signs of vocal fatigue.', 'Question 37: How can you improve your rhythm as a singer?\\nAnswer 37: Practice with a metronome, clap rhythms, and sing along with instrumental tracks to improve timing and precision.', 'Question 44: How can you improve your stage presence as a singer?\\nAnswer 44: Engage with your audience, use natural gestures, and maintain eye contact to enhance your connection with listeners.', 'Question 13: What is the importance of ear training for singers?\\nAnswer 13: Ear training helps singers recognize pitches, harmonies, and intervals, improving overall musicality and pitch accuracy.', 'Question 24: What techniques can improve vocal agility?\\nAnswer 24: Practice fast-paced scales, arpeggios, and runs while maintaining clarity and control over each note.', 'Question 16: How can you improve diction while singing?\\nAnswer 16: Practice enunciation exercises like tongue twisters and focus on shaping vowels and consonants clearly.', 'Question 1: What is the first step to improving your singing voice?\\nAnswer 1: Begin by warming up your vocal cords with gentle exercises like humming or lip trills.', \"Question 36: What is the role of articulation in singing?\\nAnswer 36: Articulation ensures that lyrics are clear and understandable, enhancing the listener's experience.\", 'Question 22: Why is hydration important for singers?\\nAnswer 22: Hydration keeps the vocal cords lubricated, preventing strain and allowing for smoother vocal production.', 'Question 32: What are the benefits of recording your singing practice?\\nAnswer 32: Recording allows you to analyze your tone, pitch, and phrasing, helping you identify areas for improvement.', 'Question 10: How can you overcome stage fright while singing?\\nAnswer 10: Prepare thoroughly, practice mindfulness techniques, and start performing in smaller, supportive settings.', 'Question 43: How do you recover from vocal strain or overuse?\\nAnswer 43: Rest your voice, stay hydrated, and avoid whispering, which can further strain your vocal cords.', 'Question 28: Why is it important to practice dynamics in singing?\\nAnswer 28: Dynamics add emotion and variety to your performance, making your singing more expressive and engaging.', 'Question 29: How do you train for long singing sessions?\\nAnswer 29: Build endurance gradually by practicing short sessions and focusing on proper vocal technique and breath control.', 'Question 3: What are common mistakes beginners make when learning to sing?\\nAnswer 3: Common mistakes include straining the voice, neglecting to warm up, and improper breathing techniques.', 'Question 18: How do you transition smoothly between vocal registers?\\nAnswer 18: Practice blending your chest and head voice through exercises like sirens and scales to achieve a seamless transition.', 'Question 7: What role does posture play in singing?\\nAnswer 7: Proper posture opens up the diaphragm and throat, allowing for better breath support and vocal projection.', 'Question 41: How do you sing with emotion without losing technical accuracy?\\nAnswer 41: Balance emotion with technique by practicing expressive phrasing and ensuring consistent breath support.', 'Question 31: How can you improve your ability to harmonize?\\nAnswer 31: Practice singing along with recordings, focus on intervals, and work with other singers to develop harmony skills.', \"Question 38: What are the challenges of singing in a group or choir?\\nAnswer 38: Challenges include blending with others, maintaining pitch, and following the conductor's cues for dynamics and timing.\", 'Question 21: What is falsetto, and how do you practice it?\\nAnswer 21: Falsetto is a light, airy register above the chest voice. Practice by relaxing your throat and gently accessing higher notes.', 'Question 47: How can you expand your vocal range safely?\\nAnswer 47: Gradually practice exercises that stretch your range, like sirens, without pushing or straining your voice.', 'Question 46: How do you maintain vocal consistency across performances?\\nAnswer 46: Stick to a regular practice routine, warm up thoroughly, and monitor your vocal health to ensure consistent performance.', 'Question 25: How do you develop a unique singing style?\\nAnswer 25: Experiment with phrasing, dynamics, and tone to find a style that reflects your personality and musical influences.', 'Question 35: How do you avoid nasal singing?\\nAnswer 35: Focus on proper resonance placement in your mouth and throat, and avoid excessive tension in your nasal passages.', 'Question 19: What is the purpose of singing scales during practice?\\nAnswer 19: Singing scales improves pitch accuracy, strengthens the voice, and helps with transitioning between notes smoothly.', 'Question 17: What are the benefits of working with a vocal coach?\\nAnswer 17: A vocal coach provides personalized feedback, helps identify areas for improvement, and teaches proper technique.']\n"
     ]
    },
    {
     "name": "stderr",
     "output_type": "stream",
     "text": [
      "Map:   0%|          | 0/10 [00:00<?, ? examples/s]"
     ]
    },
    {
     "name": "stdout",
     "output_type": "stream",
     "text": [
      "['Question 20: How do you develop confidence in your singing voice?\\nAnswer 20: Record and listen to your progress, focus on your strengths, and perform regularly to build confidence over time.', 'Question 49: How do you handle feedback as a singer?\\nAnswer 49: Listen to feedback with an open mind, focus on constructive criticism, and use it as an opportunity to grow.', 'Question 8: How do you improve vocal tone quality?\\nAnswer 8: Focus on resonance and placement, and practice vocal exercises like sirens to achieve a smoother tone.', 'Question 39: How do you prepare for a live singing performance?\\nAnswer 39: Warm up thoroughly, rehearse your setlist, and visualize a successful performance to build confidence.', 'Question 48: What is the importance of storytelling in singing?\\nAnswer 48: Storytelling connects you with the audience, making your performance more impactful and memorable.', 'Question 42: What are the benefits of singing scales daily?\\nAnswer 42: Daily scales improve pitch accuracy, vocal agility, and overall strength, keeping your voice in top condition.', 'Question 6: How can you protect your vocal cords from strain?\\nAnswer 6: Avoid over-singing, stay hydrated, and limit exposure to irritants like smoke or excessively dry air.', 'Question 27: How do you handle voice cracks while singing?\\nAnswer 27: Identify the cause, such as tension or lack of breath support, and practice transitioning between registers smoothly.', 'Question 30: What role does emotion play in singing?\\nAnswer 30: Emotion connects you with your audience and brings authenticity and depth to your performance.', 'Question 15: What foods and drinks should singers avoid?\\nAnswer 15: Avoid dairy, caffeine, and spicy foods before singing, as they can cause mucus buildup or throat irritation.']\n"
     ]
    },
    {
     "name": "stderr",
     "output_type": "stream",
     "text": [
      "Map: 100%|██████████| 10/10 [00:00<00:00, 372.94 examples/s]"
     ]
    },
    {
     "name": "stdout",
     "output_type": "stream",
     "text": [
      "----数据集tokenize完成----\n"
     ]
    },
    {
     "name": "stderr",
     "output_type": "stream",
     "text": [
      "\n"
     ]
    }
   ],
   "source": [
    "# 编写tokenizer的处理工具\n",
    "def tokenizer_function(examples):\n",
    "    # 将 examples 字典中的 prompt 列表和 completion 列表中的对应元素配对。\n",
    "    # 将每对 prompt 和 completion 拼接成一个字符串，并在它们之间插入一个换行符。\n",
    "    # 将所有这些拼接后的字符串放入一个新的列表 texts 中。\n",
    "    texts  = [f\"{prompt}\\n{completion}\" for prompt, completion in zip(examples[\"prompt\"],examples[\"completion\"])]\n",
    "    print(texts)\n",
    "\n",
    "    tokens = tokenizer(texts, truncation=True, max_length=512, padding=\"max_length\")\n",
    "    # 将 tokens 字典中的 input_ids 列表复制到 label 列表中。\n",
    "    tokens[\"label\"] = tokens[\"input_ids\"].copy() \n",
    "\n",
    "    return tokens\n",
    "\n",
    "# batch 参数表示是否对数据进行批处理\n",
    "tokenized_train_dataset = train_dataset.map(tokenizer_function,batched=True)\n",
    "tokenized_test_dataset = test_dataset.map(tokenizer_function,batched=True)\n",
    "\n",
    "print(\"----数据集tokenize完成----\")"
   ]
  },
  {
   "cell_type": "code",
   "execution_count": 7,
   "metadata": {},
   "outputs": [
    {
     "name": "stderr",
     "output_type": "stream",
     "text": [
      "Sliding Window Attention is enabled but not implemented for `sdpa`; unexpected results may be encountered.\n"
     ]
    },
    {
     "name": "stdout",
     "output_type": "stream",
     "text": [
      "----模型量化完成----\n"
     ]
    }
   ],
   "source": [
    "# 量化设置\n",
    "from transformers import BitsAndBytesConfig\n",
    "\n",
    "quantization_config = BitsAndBytesConfig(\n",
    "    load_in_8bit=True,   # 加载8位模型\n",
    ")\n",
    "\n",
    "model = AutoModelForCausalLM.from_pretrained(model_name,quantization_config=quantization_config, device_map=\"auto\")\n",
    "\n",
    "print(\"----模型量化完成----\")"
   ]
  },
  {
   "cell_type": "code",
   "execution_count": 8,
   "metadata": {},
   "outputs": [
    {
     "name": "stdout",
     "output_type": "stream",
     "text": [
      "------------------------\n",
      "trainable params: 1,089,536 || all params: 1,778,177,536 || trainable%: 0.0613\n",
      "----Lora 微调设置完成----\n"
     ]
    }
   ],
   "source": [
    "# Lora 微调设置\n",
    "from peft import get_peft_model, LoraConfig, TaskType\n",
    "\n",
    "lora_config = LoraConfig(\n",
    "    r=8,  # Lora 矩阵的秩（rank）。秩决定了 Lora 矩阵的维度，通常是一个较小的整数。较小的秩可以减少计算量，但可能会影响模型的性能。\n",
    "    lora_alpha=16,  # Lora 矩阵的缩放因子。这个参数用于调整 Lora 矩阵的权重，通常是一个较大的整数。较大的值可以增强 Lora 矩阵的影响。\n",
    "    lora_dropout=0.05,  # Lora 矩阵的 dropout 概率。dropout 是一种正则化技术，用于防止过拟合。这个参数指定了在训练过程中随机丢弃 Lora 矩阵中某些元素的概率。\n",
    "    task_type=TaskType.CAUSAL_LM,  # 任务类型。`TaskType.CAUSAL_LM` 表示这是一个因果语言建模任务，即预测下一个词的任务。\n",
    ")\n",
    "\n",
    "model = get_peft_model(model, lora_config)\n",
    "print(\"------------------------\")\n",
    "model.print_trainable_parameters()\n",
    "\n",
    "print(\"----Lora 微调设置完成----\")"
   ]
  },
  {
   "cell_type": "code",
   "execution_count": null,
   "metadata": {},
   "outputs": [
    {
     "name": "stdout",
     "output_type": "stream",
     "text": [
      "----训练参数设置完成----\n"
     ]
    }
   ],
   "source": [
    "# 设置训练参数\n",
    "from transformers import TrainingArguments,Trainer\n",
    "\n",
    "trainning_args = TrainingArguments(\n",
    "    output_dir=\"./main_results\",\n",
    "    num_train_epochs=50, \n",
    "    per_device_train_batch_size=4, # 每个GPU的batch size\n",
    "    gradient_accumulation_steps=8, # 梯度累积步数\n",
    "    fp16=True,\n",
    "    logging_steps=10, # 每多少步保存一次日志\n",
    "    save_steps=10, # 每多少步保存一次模型\n",
    "    eval_strategy='steps', # 评估策略，steps表示每多少步评估一次\n",
    "    eval_steps=10, # 每多少步评估一次\n",
    "    learning_rate=5e-5,\n",
    "    logging_dir='./main_logs',\n",
    "    run_name = \"Deepseek_main_finetune\" # 运行名称\n",
    ")\n",
    "\n",
    "print(\"----训练参数设置完成----\")"
   ]
  },
  {
   "cell_type": "code",
   "execution_count": 11,
   "metadata": {},
   "outputs": [
    {
     "name": "stderr",
     "output_type": "stream",
     "text": [
      "/tmp/ipykernel_274506/3575231236.py:2: FutureWarning: `tokenizer` is deprecated and will be removed in version 5.0.0 for `Trainer.__init__`. Use `processing_class` instead.\n",
      "  trainer = Trainer(\n",
      "No label_names provided for model class `PeftModelForCausalLM`. Since `PeftModel` hides base models input arguments, if label_names is not given, label_names can't be set automatically within `Trainer`. Note that empty label_names list will be used instead.\n"
     ]
    },
    {
     "name": "stdout",
     "output_type": "stream",
     "text": [
      "----训练器定义完成----\n"
     ]
    },
    {
     "data": {
      "text/html": [
       "\n",
       "    <div>\n",
       "      \n",
       "      <progress value='100' max='100' style='width:300px; height:20px; vertical-align: middle;'></progress>\n",
       "      [100/100 12:09, Epoch 50/100]\n",
       "    </div>\n",
       "    <table border=\"1\" class=\"dataframe\">\n",
       "  <thead>\n",
       " <tr style=\"text-align: left;\">\n",
       "      <th>Step</th>\n",
       "      <th>Training Loss</th>\n",
       "      <th>Validation Loss</th>\n",
       "    </tr>\n",
       "  </thead>\n",
       "  <tbody>\n",
       "    <tr>\n",
       "      <td>10</td>\n",
       "      <td>5.563600</td>\n",
       "      <td>4.314012</td>\n",
       "    </tr>\n",
       "    <tr>\n",
       "      <td>20</td>\n",
       "      <td>2.915300</td>\n",
       "      <td>1.672166</td>\n",
       "    </tr>\n",
       "    <tr>\n",
       "      <td>30</td>\n",
       "      <td>1.016300</td>\n",
       "      <td>0.528060</td>\n",
       "    </tr>\n",
       "    <tr>\n",
       "      <td>40</td>\n",
       "      <td>0.400200</td>\n",
       "      <td>0.310636</td>\n",
       "    </tr>\n",
       "    <tr>\n",
       "      <td>50</td>\n",
       "      <td>0.316400</td>\n",
       "      <td>0.295170</td>\n",
       "    </tr>\n",
       "    <tr>\n",
       "      <td>60</td>\n",
       "      <td>0.304100</td>\n",
       "      <td>0.289939</td>\n",
       "    </tr>\n",
       "    <tr>\n",
       "      <td>70</td>\n",
       "      <td>0.304300</td>\n",
       "      <td>0.285583</td>\n",
       "    </tr>\n",
       "    <tr>\n",
       "      <td>80</td>\n",
       "      <td>0.301100</td>\n",
       "      <td>0.283222</td>\n",
       "    </tr>\n",
       "    <tr>\n",
       "      <td>90</td>\n",
       "      <td>0.291500</td>\n",
       "      <td>0.281372</td>\n",
       "    </tr>\n",
       "    <tr>\n",
       "      <td>100</td>\n",
       "      <td>0.296500</td>\n",
       "      <td>0.281480</td>\n",
       "    </tr>\n",
       "  </tbody>\n",
       "</table><p>"
      ],
      "text/plain": [
       "<IPython.core.display.HTML object>"
      ]
     },
     "metadata": {},
     "output_type": "display_data"
    },
    {
     "name": "stderr",
     "output_type": "stream",
     "text": [
      "/home/ubuntu/anaconda3/envs/test/lib/python3.12/site-packages/peft/utils/other.py:716: UserWarning: Unable to fetch remote file due to the following error (MaxRetryError(\"HTTPSConnectionPool(host='huggingface.co', port=443): Max retries exceeded with url: /deepseek-ai/DeepSeek-R1-Distill-Qwen-1.5B/resolve/main/config.json (Caused by ConnectTimeoutError(<urllib3.connection.HTTPSConnection object at 0x7fe11cbd7200>, 'Connection to huggingface.co timed out. (connect timeout=10)'))\"), '(Request ID: 7a237fed-7ac6-4849-9130-d01cb5d7f607)') - silently ignoring the lookup for the file config.json in deepseek-ai/DeepSeek-R1-Distill-Qwen-1.5B.\n",
      "  warnings.warn(\n",
      "/home/ubuntu/anaconda3/envs/test/lib/python3.12/site-packages/peft/utils/save_and_load.py:246: UserWarning: Could not find a config file in deepseek-ai/DeepSeek-R1-Distill-Qwen-1.5B - will assume that the vocabulary was not modified.\n",
      "  warnings.warn(\n",
      "/home/ubuntu/anaconda3/envs/test/lib/python3.12/site-packages/peft/utils/other.py:716: UserWarning: Unable to fetch remote file due to the following error (MaxRetryError(\"HTTPSConnectionPool(host='huggingface.co', port=443): Max retries exceeded with url: /deepseek-ai/DeepSeek-R1-Distill-Qwen-1.5B/resolve/main/config.json (Caused by ConnectTimeoutError(<urllib3.connection.HTTPSConnection object at 0x7fe0ef3c1a30>, 'Connection to huggingface.co timed out. (connect timeout=10)'))\"), '(Request ID: 7b7313b1-2515-4aba-85ca-a44908f49b07)') - silently ignoring the lookup for the file config.json in deepseek-ai/DeepSeek-R1-Distill-Qwen-1.5B.\n",
      "  warnings.warn(\n",
      "/home/ubuntu/anaconda3/envs/test/lib/python3.12/site-packages/peft/utils/save_and_load.py:246: UserWarning: Could not find a config file in deepseek-ai/DeepSeek-R1-Distill-Qwen-1.5B - will assume that the vocabulary was not modified.\n",
      "  warnings.warn(\n",
      "/home/ubuntu/anaconda3/envs/test/lib/python3.12/site-packages/peft/utils/other.py:716: UserWarning: Unable to fetch remote file due to the following error (MaxRetryError(\"HTTPSConnectionPool(host='huggingface.co', port=443): Max retries exceeded with url: /deepseek-ai/DeepSeek-R1-Distill-Qwen-1.5B/resolve/main/config.json (Caused by ConnectTimeoutError(<urllib3.connection.HTTPSConnection object at 0x7fe0ef3c2870>, 'Connection to huggingface.co timed out. (connect timeout=10)'))\"), '(Request ID: 55192f5d-0d7d-4b49-a35e-2672f4986e2c)') - silently ignoring the lookup for the file config.json in deepseek-ai/DeepSeek-R1-Distill-Qwen-1.5B.\n",
      "  warnings.warn(\n",
      "/home/ubuntu/anaconda3/envs/test/lib/python3.12/site-packages/peft/utils/save_and_load.py:246: UserWarning: Could not find a config file in deepseek-ai/DeepSeek-R1-Distill-Qwen-1.5B - will assume that the vocabulary was not modified.\n",
      "  warnings.warn(\n",
      "/home/ubuntu/anaconda3/envs/test/lib/python3.12/site-packages/peft/utils/other.py:716: UserWarning: Unable to fetch remote file due to the following error (MaxRetryError(\"HTTPSConnectionPool(host='huggingface.co', port=443): Max retries exceeded with url: /deepseek-ai/DeepSeek-R1-Distill-Qwen-1.5B/resolve/main/config.json (Caused by ConnectTimeoutError(<urllib3.connection.HTTPSConnection object at 0x7fe0eee32c90>, 'Connection to huggingface.co timed out. (connect timeout=10)'))\"), '(Request ID: e68b6b2f-d5aa-4445-bbc8-9526c608890a)') - silently ignoring the lookup for the file config.json in deepseek-ai/DeepSeek-R1-Distill-Qwen-1.5B.\n",
      "  warnings.warn(\n",
      "/home/ubuntu/anaconda3/envs/test/lib/python3.12/site-packages/peft/utils/save_and_load.py:246: UserWarning: Could not find a config file in deepseek-ai/DeepSeek-R1-Distill-Qwen-1.5B - will assume that the vocabulary was not modified.\n",
      "  warnings.warn(\n",
      "/home/ubuntu/anaconda3/envs/test/lib/python3.12/site-packages/peft/utils/other.py:716: UserWarning: Unable to fetch remote file due to the following error (MaxRetryError(\"HTTPSConnectionPool(host='huggingface.co', port=443): Max retries exceeded with url: /deepseek-ai/DeepSeek-R1-Distill-Qwen-1.5B/resolve/main/config.json (Caused by ConnectTimeoutError(<urllib3.connection.HTTPSConnection object at 0x7fe0ef3b6720>, 'Connection to huggingface.co timed out. (connect timeout=10)'))\"), '(Request ID: d9af37ba-369b-46f2-bb53-613c162386c1)') - silently ignoring the lookup for the file config.json in deepseek-ai/DeepSeek-R1-Distill-Qwen-1.5B.\n",
      "  warnings.warn(\n",
      "/home/ubuntu/anaconda3/envs/test/lib/python3.12/site-packages/peft/utils/save_and_load.py:246: UserWarning: Could not find a config file in deepseek-ai/DeepSeek-R1-Distill-Qwen-1.5B - will assume that the vocabulary was not modified.\n",
      "  warnings.warn(\n",
      "/home/ubuntu/anaconda3/envs/test/lib/python3.12/site-packages/peft/utils/other.py:716: UserWarning: Unable to fetch remote file due to the following error (MaxRetryError(\"HTTPSConnectionPool(host='huggingface.co', port=443): Max retries exceeded with url: /deepseek-ai/DeepSeek-R1-Distill-Qwen-1.5B/resolve/main/config.json (Caused by ConnectTimeoutError(<urllib3.connection.HTTPSConnection object at 0x7fe11cb7c170>, 'Connection to huggingface.co timed out. (connect timeout=10)'))\"), '(Request ID: 819a6e92-83d4-49c8-bc49-88c3b9c15c48)') - silently ignoring the lookup for the file config.json in deepseek-ai/DeepSeek-R1-Distill-Qwen-1.5B.\n",
      "  warnings.warn(\n",
      "/home/ubuntu/anaconda3/envs/test/lib/python3.12/site-packages/peft/utils/save_and_load.py:246: UserWarning: Could not find a config file in deepseek-ai/DeepSeek-R1-Distill-Qwen-1.5B - will assume that the vocabulary was not modified.\n",
      "  warnings.warn(\n",
      "/home/ubuntu/anaconda3/envs/test/lib/python3.12/site-packages/peft/utils/other.py:716: UserWarning: Unable to fetch remote file due to the following error (MaxRetryError(\"HTTPSConnectionPool(host='huggingface.co', port=443): Max retries exceeded with url: /deepseek-ai/DeepSeek-R1-Distill-Qwen-1.5B/resolve/main/config.json (Caused by ConnectTimeoutError(<urllib3.connection.HTTPSConnection object at 0x7fe0efbfc500>, 'Connection to huggingface.co timed out. (connect timeout=10)'))\"), '(Request ID: 81466513-88ef-4e77-bea7-a9d174fd9da5)') - silently ignoring the lookup for the file config.json in deepseek-ai/DeepSeek-R1-Distill-Qwen-1.5B.\n",
      "  warnings.warn(\n",
      "/home/ubuntu/anaconda3/envs/test/lib/python3.12/site-packages/peft/utils/save_and_load.py:246: UserWarning: Could not find a config file in deepseek-ai/DeepSeek-R1-Distill-Qwen-1.5B - will assume that the vocabulary was not modified.\n",
      "  warnings.warn(\n",
      "/home/ubuntu/anaconda3/envs/test/lib/python3.12/site-packages/peft/utils/other.py:716: UserWarning: Unable to fetch remote file due to the following error (MaxRetryError(\"HTTPSConnectionPool(host='huggingface.co', port=443): Max retries exceeded with url: /deepseek-ai/DeepSeek-R1-Distill-Qwen-1.5B/resolve/main/config.json (Caused by ConnectTimeoutError(<urllib3.connection.HTTPSConnection object at 0x7fe0ef3ae600>, 'Connection to huggingface.co timed out. (connect timeout=10)'))\"), '(Request ID: c21441ab-1a01-4178-8c73-1af85bcdb86f)') - silently ignoring the lookup for the file config.json in deepseek-ai/DeepSeek-R1-Distill-Qwen-1.5B.\n",
      "  warnings.warn(\n",
      "/home/ubuntu/anaconda3/envs/test/lib/python3.12/site-packages/peft/utils/save_and_load.py:246: UserWarning: Could not find a config file in deepseek-ai/DeepSeek-R1-Distill-Qwen-1.5B - will assume that the vocabulary was not modified.\n",
      "  warnings.warn(\n",
      "/home/ubuntu/anaconda3/envs/test/lib/python3.12/site-packages/peft/utils/other.py:716: UserWarning: Unable to fetch remote file due to the following error (MaxRetryError(\"HTTPSConnectionPool(host='huggingface.co', port=443): Max retries exceeded with url: /deepseek-ai/DeepSeek-R1-Distill-Qwen-1.5B/resolve/main/config.json (Caused by ConnectTimeoutError(<urllib3.connection.HTTPSConnection object at 0x7fe0ef9e9760>, 'Connection to huggingface.co timed out. (connect timeout=10)'))\"), '(Request ID: 23fbb58b-caeb-456e-a47b-589230806a92)') - silently ignoring the lookup for the file config.json in deepseek-ai/DeepSeek-R1-Distill-Qwen-1.5B.\n",
      "  warnings.warn(\n",
      "/home/ubuntu/anaconda3/envs/test/lib/python3.12/site-packages/peft/utils/save_and_load.py:246: UserWarning: Could not find a config file in deepseek-ai/DeepSeek-R1-Distill-Qwen-1.5B - will assume that the vocabulary was not modified.\n",
      "  warnings.warn(\n",
      "/home/ubuntu/anaconda3/envs/test/lib/python3.12/site-packages/peft/utils/other.py:716: UserWarning: Unable to fetch remote file due to the following error (MaxRetryError(\"HTTPSConnectionPool(host='huggingface.co', port=443): Max retries exceeded with url: /deepseek-ai/DeepSeek-R1-Distill-Qwen-1.5B/resolve/main/config.json (Caused by ConnectTimeoutError(<urllib3.connection.HTTPSConnection object at 0x7fe0ef9e9760>, 'Connection to huggingface.co timed out. (connect timeout=10)'))\"), '(Request ID: bf2755af-047e-4bf5-81bc-8931ae5058aa)') - silently ignoring the lookup for the file config.json in deepseek-ai/DeepSeek-R1-Distill-Qwen-1.5B.\n",
      "  warnings.warn(\n",
      "/home/ubuntu/anaconda3/envs/test/lib/python3.12/site-packages/peft/utils/save_and_load.py:246: UserWarning: Could not find a config file in deepseek-ai/DeepSeek-R1-Distill-Qwen-1.5B - will assume that the vocabulary was not modified.\n",
      "  warnings.warn(\n"
     ]
    },
    {
     "name": "stdout",
     "output_type": "stream",
     "text": [
      "----训练完成----\n"
     ]
    }
   ],
   "source": [
    "# 定义训练器\n",
    "trainer = Trainer(\n",
    "    model=model,\n",
    "    args=trainning_args,\n",
    "    train_dataset=tokenized_train_dataset,\n",
    "    eval_dataset=tokenized_test_dataset,\n",
    "    tokenizer=tokenizer,\n",
    ")\n",
    "\n",
    "print(\"----训练器定义完成----\")\n",
    "\n",
    "trainer.train()\n",
    "\n",
    "print(\"----训练完成----\")"
   ]
  },
  {
   "cell_type": "code",
   "execution_count": null,
   "metadata": {},
   "outputs": [
    {
     "name": "stderr",
     "output_type": "stream",
     "text": [
      "/home/ubuntu/anaconda3/envs/test/lib/python3.12/site-packages/peft/utils/other.py:716: UserWarning: Unable to fetch remote file due to the following error (MaxRetryError(\"HTTPSConnectionPool(host='huggingface.co', port=443): Max retries exceeded with url: /deepseek-ai/DeepSeek-R1-Distill-Qwen-1.5B/resolve/main/config.json (Caused by ConnectTimeoutError(<urllib3.connection.HTTPSConnection object at 0x7fe11cbba540>, 'Connection to huggingface.co timed out. (connect timeout=10)'))\"), '(Request ID: a246f428-d2a3-4387-98fb-759b73f5453f)') - silently ignoring the lookup for the file config.json in deepseek-ai/DeepSeek-R1-Distill-Qwen-1.5B.\n",
      "  warnings.warn(\n",
      "/home/ubuntu/anaconda3/envs/test/lib/python3.12/site-packages/peft/utils/save_and_load.py:246: UserWarning: Could not find a config file in deepseek-ai/DeepSeek-R1-Distill-Qwen-1.5B - will assume that the vocabulary was not modified.\n",
      "  warnings.warn(\n"
     ]
    },
    {
     "name": "stdout",
     "output_type": "stream",
     "text": [
      "----模型保存完成----\n"
     ]
    }
   ],
   "source": [
    "# 保存lora模型\n",
    "save_path = \"./main_results/FT-result\"\n",
    "model.save_pretrained(save_path)\n",
    "tokenizer.save_pretrained(save_path)\n",
    "\n",
    "print(\"----模型保存完成----\")"
   ]
  },
  {
   "cell_type": "code",
   "execution_count": 13,
   "metadata": {},
   "outputs": [
    {
     "name": "stdout",
     "output_type": "stream",
     "text": [
      "----全量模型保存完成----\n"
     ]
    }
   ],
   "source": [
    "# 保存全量模型\n",
    "final_save_path = \"./main_results/FT-result-full\"\n",
    "\n",
    "\n",
    "from peft import PeftModel\n",
    "base_model = AutoModelForCausalLM.from_pretrained(model_name)\n",
    "model = PeftModel.from_pretrained(base_model,save_path)\n",
    "model = model.merge_and_unload()\n",
    "\n",
    "model.save_pretrained(final_save_path)\n",
    "tokenizer.save_pretrained(final_save_path)\n",
    "\n",
    "print(\"----全量模型保存完成----\")"
   ]
  },
  {
   "cell_type": "code",
   "execution_count": 17,
   "metadata": {},
   "outputs": [
    {
     "name": "stderr",
     "output_type": "stream",
     "text": [
      "Loading checkpoint shards: 100%|██████████| 2/2 [00:00<00:00,  2.99it/s]\n",
      "Device set to use cuda:0\n"
     ]
    },
    {
     "name": "stdout",
     "output_type": "stream",
     "text": [
      "----模型加载完成----\n"
     ]
    },
    {
     "name": "stderr",
     "output_type": "stream",
     "text": [
      "Truncation was not explicitly activated but `max_length` is provided a specific value, please use `truncation=True` to explicitly truncate examples to max length. Defaulting to 'longest_first' truncation strategy. If you encode pairs of sequences (GLUE-style) with the tokenizer you can select this strategy more precisely by providing a specific strategy to `truncation`.\n"
     ]
    },
    {
     "name": "stdout",
     "output_type": "stream",
     "text": [
      "----推理pipeline构建完成----\n",
      "----推理完成----\n",
      "[{'generated_text': \"tell me some singing skills that I can practice in order to improve my singing.\\nOkay, so I want to improve my singing skills. I've heard that practicing a lot can help, but I'm not sure where to start. Maybe I should look into singing along to music or something. But I'm not sure how to do that properly. I've also heard about singing vocabulary being important, but I don't know much about it. Maybe I should figure out what words I can sing and how to use them. Also, I think practicing different instruments can help me get better, but I don't know much about that. Maybe I should look into learning how to play an instrument or use different instruments in my singing. I'm not sure if I want to sing in a band or just sing on my own. Maybe I should start with something easier and build up from there. I'm also a bit worried about making mistakes. I don't want to end up with a song that's not good, so I need to learn how to improve from my mistakes. Maybe I should focus on practicing regularly and not get discouraged if I make some errors. I'm not sure if I have the time to practice every day, so maybe I should find a way to practice in my spare time. I think singing is a skill that needs a lot of practice, but I'm not sure where to begin. Maybe I should look into singing books or online resources. I've heard of YouTube channels that provide singing lessons, but I'm not sure if I want to stick with that. I should also think about how to make my singing better, like using a singing staff or something. I'm not sure if I have the skills to do that yet. Maybe I should start small and build up my singing as I go. I'm also a bit nervous about singing in public, but I think that's something I can work on. I don't want to get into trouble with singing in front of people, so I need to be careful. I should probably focus on practicing on my own and not get too much help from others. I'm not sure if I have the confidence to do that yet, but I think I can work on it. I'm also wondering if singing is just about memorizing notes or if it's more about understanding the music. I think it's more about understanding the music, but I'm not sure how to do that. I've heard that singing vocabulary is important, but I don't know how to develop that. I\"}]\n"
     ]
    }
   ],
   "source": [
    "## 调用模型进行推理\n",
    "from transformers import AutoModelForCausalLM, AutoTokenizer, pipeline\n",
    "\n",
    "final_save_path = \"./main_results/FT-result-full\"\n",
    "model = AutoModelForCausalLM.from_pretrained(final_save_path)\n",
    "tokenizer = AutoTokenizer.from_pretrained(final_save_path)\n",
    "\n",
    "print(\"----模型加载完成----\")\n",
    "\n",
    "# 构建推理pipeline\n",
    "pipe = pipeline(\"text-generation\", model=model, tokenizer=tokenizer, device=0)\n",
    "\n",
    "print(\"----推理pipeline构建完成----\")\n",
    "\n",
    "# 进行推理\n",
    "prompt = \"tell me some singing skills\"\n",
    "output = pipe(prompt, max_length=512, num_return_sequences=1)\n",
    "\n",
    "print(\"----推理完成----\")\n",
    "print(output)"
   ]
  },
  {
   "cell_type": "markdown",
   "metadata": {},
   "source": [
    "{\"prompt\": \"Question 4: How do you find your vocal range?\", \"completion\": \"Answer 4: Experiment by singing scales up and down to identify the lowest and highest note you can comfortably sustain.\"}"
   ]
  },
  {
   "cell_type": "code",
   "execution_count": null,
   "metadata": {},
   "outputs": [],
   "source": []
  }
 ],
 "metadata": {
  "kernelspec": {
   "display_name": "test",
   "language": "python",
   "name": "python3"
  },
  "language_info": {
   "codemirror_mode": {
    "name": "ipython",
    "version": 3
   },
   "file_extension": ".py",
   "mimetype": "text/x-python",
   "name": "python",
   "nbconvert_exporter": "python",
   "pygments_lexer": "ipython3",
   "version": "3.12.9"
  }
 },
 "nbformat": 4,
 "nbformat_minor": 2
}
